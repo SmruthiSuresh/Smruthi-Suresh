{
 "cells": [
  {
   "cell_type": "code",
   "execution_count": 1,
   "metadata": {
    "collapsed": false
   },
   "outputs": [
    {
     "name": "stdout",
     "output_type": "stream",
     "text": [
      "10-19-20s_706posts.xml\n",
      "10-19-30s_705posts.xml\n",
      "10-19-40s_686posts.xml\n",
      "10-19-adults_706posts.xml\n",
      "10-24-40s_706posts.xml\n",
      "10-26-teens_706posts.xml\n",
      "11-06-adults_706posts.xml\n",
      "11-08-20s_705posts.xml\n",
      "11-08-40s_706posts.xml\n",
      "11-08-adults_705posts.xml\n",
      "11-08-teens_706posts.xml\n",
      "11-09-20s_706posts.xml\n",
      "11-09-40s_706posts.xml\n",
      "11-09-adults_706posts.xml\n",
      "11-09-teens_706posts.xml\n",
      "No of posts by user121 is: 132\n"
     ]
    }
   ],
   "source": [
    "import nltk\n",
    "from nltk.corpus import nps_chat\n",
    "for fileid in nps_chat.fileids():\n",
    "    print(fileid)\n",
    "count=0\n",
    "posts=nps_chat.xml_posts()\n",
    "for p in posts:\n",
    "    if p.get('user').endswith('User121'):\n",
    "        count+=1\n",
    "print(\"No of posts by user121 is:\", count)"
   ]
  },
  {
   "cell_type": "code",
   "execution_count": 2,
   "metadata": {
    "collapsed": false
   },
   "outputs": [
    {
     "name": "stdout",
     "output_type": "stream",
     "text": [
      "Total number of users in the age group of20s:162\n",
      "Total number of users in the age group of30s:44\n",
      "Total number of users in the age group of40s:80\n"
     ]
    }
   ],
   "source": [
    "from xml.etree import cElementTree as ElemenTree\n",
    "from nltk.corpus import nps_chat\n",
    "file=nps_chat.fileids()\n",
    "age=['20s','30s','40s']\n",
    "ageFiles={}\n",
    "for ages in age:\n",
    "    for id in file:\n",
    "        if ages in id:\n",
    "            if ages not in ageFiles.keys():\n",
    "                ageFiles.setdefault(ages, [])\n",
    "                ageFiles[ages].append(id)\n",
    "            else:\n",
    "                ageFiles[ages].append(id)\n",
    "age_dict={}\n",
    "for key, value in ageFiles.items():\n",
    "    users=set()\n",
    "    for file_list in value:\n",
    "        from nltk.corpus import nps_chat\n",
    "        raw = nps_chat.raw(file_list)\n",
    "        my_xml = ElemenTree.fromstring(raw)\n",
    "        for child in my_xml.iter('Post'):\n",
    "            users.add(child.get('user')[9:])\n",
    "    age_dict[key]=users\n",
    "\n",
    "for k,v in age_dict.items():\n",
    "    print(  'Total number of users in the age group of' + k +':' + str(len(v)))"
   ]
  },
  {
   "cell_type": "code",
   "execution_count": null,
   "metadata": {
    "collapsed": true
   },
   "outputs": [],
   "source": []
  }
 ],
 "metadata": {
  "kernelspec": {
   "display_name": "Python 3",
   "language": "python",
   "name": "python3"
  },
  "language_info": {
   "codemirror_mode": {
    "name": "ipython",
    "version": 3
   },
   "file_extension": ".py",
   "mimetype": "text/x-python",
   "name": "python",
   "nbconvert_exporter": "python",
   "pygments_lexer": "ipython3",
   "version": "3.6.0"
  }
 },
 "nbformat": 4,
 "nbformat_minor": 2
}
