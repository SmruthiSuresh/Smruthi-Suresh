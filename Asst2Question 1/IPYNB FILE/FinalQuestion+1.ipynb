{
 "cells": [
  {
   "cell_type": "markdown",
   "metadata": {},
   "source": [
    "# Question 1"
   ]
  },
  {
   "cell_type": "code",
   "execution_count": 24,
   "metadata": {
    "collapsed": true
   },
   "outputs": [],
   "source": [
    "# importing required modules\n",
    "import nltk\n",
    "from nltk import corpus\n",
    "from nltk import FreqDist\n",
    "import glob\n",
    "import csv\n",
    "import matplotlib.pyplot as plt\n",
    "\n",
    "# for proving zipfs law but still throws some error... The ouput is coming bothways . \n",
    "file_list = glob.glob(r'C:/Users/smrut/AppData/Roaming/nltk_data/corpora/gutenberg/*') "
   ]
  },
  {
   "cell_type": "code",
   "execution_count": 25,
   "metadata": {
    "collapsed": false
   },
   "outputs": [
    {
     "name": "stdout",
     "output_type": "stream",
     "text": [
      "File  C:/Users/smrut/AppData/Roaming/nltk_data/corpora/gutenberg\\austen-emma.txt : 88.68474460538545\n",
      "File  C:/Users/smrut/AppData/Roaming/nltk_data/corpora/gutenberg\\austen-persuasion.txt : 85.82369040188217\n",
      "File  C:/Users/smrut/AppData/Roaming/nltk_data/corpora/gutenberg\\austen-sense.txt : 87.43121971771646\n",
      "File  C:/Users/smrut/AppData/Roaming/nltk_data/corpora/gutenberg\\bible-kjv.txt : 93.15129217800283\n",
      "File  C:/Users/smrut/AppData/Roaming/nltk_data/corpora/gutenberg\\blake-poems.txt : 70.35792549306062\n",
      "File  C:/Users/smrut/AppData/Roaming/nltk_data/corpora/gutenberg\\bryant-stories.txt : 83.13255631903975\n",
      "File  C:/Users/smrut/AppData/Roaming/nltk_data/corpora/gutenberg\\burgess-busterbrown.txt : 81.27284183994959\n",
      "File  C:/Users/smrut/AppData/Roaming/nltk_data/corpora/gutenberg\\carroll-alice.txt : 80.75483114623908\n",
      "File  C:/Users/smrut/AppData/Roaming/nltk_data/corpora/gutenberg\\chesterton-ball.txt : 83.51797838182308\n",
      "File  C:/Users/smrut/AppData/Roaming/nltk_data/corpora/gutenberg\\chesterton-brown.txt : 82.45190294027309\n",
      "File  C:/Users/smrut/AppData/Roaming/nltk_data/corpora/gutenberg\\chesterton-thursday.txt : 82.36735398153739\n",
      "File  C:/Users/smrut/AppData/Roaming/nltk_data/corpora/gutenberg\\edgeworth-parents.txt : 86.9109411693864\n",
      "File  C:/Users/smrut/AppData/Roaming/nltk_data/corpora/gutenberg\\melville-moby_dick.txt : 84.83469320379191\n",
      "File  C:/Users/smrut/AppData/Roaming/nltk_data/corpora/gutenberg\\milton-paradise.txt : 80.48682509195444\n",
      "File  C:/Users/smrut/AppData/Roaming/nltk_data/corpora/gutenberg\\README : 60.215778826702625\n",
      "File  C:/Users/smrut/AppData/Roaming/nltk_data/corpora/gutenberg\\shakespeare-caesar.txt : 78.82105674764162\n",
      "File  C:/Users/smrut/AppData/Roaming/nltk_data/corpora/gutenberg\\shakespeare-hamlet.txt : 79.23323762877892\n",
      "File  C:/Users/smrut/AppData/Roaming/nltk_data/corpora/gutenberg\\shakespeare-macbeth.txt : 75.15359900794769\n",
      "File  C:/Users/smrut/AppData/Roaming/nltk_data/corpora/gutenberg\\whitman-leaves.txt : 82.31998033914967\n"
     ]
    }
   ],
   "source": [
    "# Zipf's law gets proven in most of the cases with the 80-20 percent ratio criteria for zipf's law.\n",
    "\n",
    "\n",
    "for x in file_list:\n",
    "    with open(x, 'r') as f:\n",
    "        lines=f.read() # reading the lines of the opened file\n",
    "        lines_split = lines.split()\n",
    "        file_lower = [words.lower() for words in lines_split] # making the words into lowercase\n",
    "        total_word_count = len(file_lower)\n",
    "        freq_words = calc_freq(file_lower)\n",
    "        # to find the top 20 percent of words\n",
    "        percent_word = round(len(freq_words)*0.20)\n",
    "        frq_words = FreqDist(freq_words)\n",
    "        top_words = frq_words.most_common(percent_word)\n",
    "        dict_words = dict(top_words)\n",
    "        freq_top_words = sum(dict_words.values())\n",
    "        \n",
    "         #calculation of zipf's law\n",
    "        Zipf_law_calc = (freq_top_words/total_word_count)*100\n",
    "        sorted_list = sorted(freq_words.items(), key = lambda x:x[1], reverse = True)\n",
    "        with open(x[59:-4]+('.csv'), 'w', newline=\"\") as csvfile:\n",
    "            # writing the output to the csv file\n",
    "            csv_output = csv.writer(csvfile)\n",
    "            csv_output.writerow(['Word', 'Freq', 'Rank'])\n",
    "            rank = 1\n",
    "            for row in sorted_list:\n",
    "                csv_output.writerow([row[0], row[1], rank])\n",
    "                rank +=1\n",
    "                csvfile.close\n",
    "        print('File ', x ,':', Zipf_law_calc)\n",
    "    "
   ]
  },
  {
   "cell_type": "code",
   "execution_count": 26,
   "metadata": {
    "collapsed": false
   },
   "outputs": [],
   "source": [
    "# calculating the frequency of words using function\n",
    "def calc_freq(file):\n",
    "    frequency = {}\n",
    "    for y in file:\n",
    "        if y not in frequency:\n",
    "            frequency[y] = 1\n",
    "        else:\n",
    "            frequency[y] += 1\n",
    "    return frequency"
   ]
  },
  {
   "cell_type": "code",
   "execution_count": 27,
   "metadata": {
    "collapsed": false,
    "scrolled": true
   },
   "outputs": [
    {
     "data": {
      "image/png": "[encoded data removed]",
      "text/plain": [
       "<matplotlib.figure.Figure at 0x27a631319b0>"
      ]
     },
     "metadata": {},
     "output_type": "display_data"
    }
   ],
   "source": [
    "csvfile = open('austen-emma.csv', 'r') #opening the csv file\n",
    "w=[]\n",
    "f=[]\n",
    "r=[]\n",
    "csv_f=csv.reader(csvfile)\n",
    "#appending the required rows to the csv file that we are writing to\n",
    "for row in csv_f:\n",
    "    w.append(row[0]) \n",
    "    f.append(row[1])\n",
    "    r.append(row[2])\n",
    "r.pop(0)\n",
    "f.pop(0)\n",
    "plt.loglog(f,r,color='g',linewidth=2)\n",
    "plt.grid(True)\n",
    "plt.title(\"Zipf plot for Gutenberg corpus\")\n",
    "plt.xlabel(\"Frequency rank\")\n",
    "plt.ylabel(\"Absolute frequency\")\n",
    "plt.show()\n"
   ]
  },
  {
   "cell_type": "code",
   "execution_count": null,
   "metadata": {
    "collapsed": true
   },
   "outputs": [],
   "source": []
  },
  {
   "cell_type": "code",
   "execution_count": null,
   "metadata": {
    "collapsed": true
   },
   "outputs": [],
   "source": []
  },
  {
   "cell_type": "code",
   "execution_count": null,
   "metadata": {
    "collapsed": true
   },
   "outputs": [],
   "source": []
  }
 ],
 "metadata": {
  "anaconda-cloud": {},
  "kernelspec": {
   "display_name": "Python 3",
   "language": "python",
   "name": "python3"
  },
  "language_info": {
   "codemirror_mode": {
    "name": "ipython",
    "version": 3
   },
   "file_extension": ".py",
   "mimetype": "text/x-python",
   "name": "python",
   "nbconvert_exporter": "python",
   "pygments_lexer": "ipython3",
   "version": "3.6.0"
  }
 },
 "nbformat": 4,
 "nbformat_minor": 1
}
