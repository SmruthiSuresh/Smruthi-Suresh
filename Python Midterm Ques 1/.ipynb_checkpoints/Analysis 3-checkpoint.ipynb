{
 "cells": [
  {
   "cell_type": "markdown",
   "metadata": {},
   "source": [
    "# Analysis 3"
   ]
  },
  {
   "cell_type": "code",
   "execution_count": 1,
   "metadata": {
    "collapsed": false
   },
   "outputs": [
    {
     "name": "stdout",
     "output_type": "stream",
     "text": [
      "C:\\Users\\smrut\\midterm\\data\\enron\\enron_mail_20150507\\maildir\\lay-k ['all_documents', 'business', 'calendar', 'compaq', 'deleted_items', 'discussion_threads', 'elizabeth', 'enron', 'family', 'inbox', 'notes_inbox', 'sec_panel', 'sent', 'sent_items', '_sent'] 0\n",
      "C:\\Users\\smrut\\midterm\\data\\enron\\enron_mail_20150507\\maildir\\lay-k\\all_documents [] 1127\n",
      "C:\\Users\\smrut\\midterm\\data\\enron\\enron_mail_20150507\\maildir\\lay-k\\business [] 2\n",
      "C:\\Users\\smrut\\midterm\\data\\enron\\enron_mail_20150507\\maildir\\lay-k\\calendar [] 8\n",
      "C:\\Users\\smrut\\midterm\\data\\enron\\enron_mail_20150507\\maildir\\lay-k\\compaq [] 1\n",
      "C:\\Users\\smrut\\midterm\\data\\enron\\enron_mail_20150507\\maildir\\lay-k\\deleted_items [] 1126\n",
      "C:\\Users\\smrut\\midterm\\data\\enron\\enron_mail_20150507\\maildir\\lay-k\\discussion_threads [] 910\n",
      "C:\\Users\\smrut\\midterm\\data\\enron\\enron_mail_20150507\\maildir\\lay-k\\elizabeth [] 35\n",
      "C:\\Users\\smrut\\midterm\\data\\enron\\enron_mail_20150507\\maildir\\lay-k\\enron [] 5\n",
      "C:\\Users\\smrut\\midterm\\data\\enron\\enron_mail_20150507\\maildir\\lay-k\\family [] 8\n",
      "C:\\Users\\smrut\\midterm\\data\\enron\\enron_mail_20150507\\maildir\\lay-k\\inbox [] 1373\n",
      "C:\\Users\\smrut\\midterm\\data\\enron\\enron_mail_20150507\\maildir\\lay-k\\notes_inbox [] 799\n",
      "C:\\Users\\smrut\\midterm\\data\\enron\\enron_mail_20150507\\maildir\\lay-k\\sec_panel [] 3\n",
      "C:\\Users\\smrut\\midterm\\data\\enron\\enron_mail_20150507\\maildir\\lay-k\\sent [] 266\n",
      "C:\\Users\\smrut\\midterm\\data\\enron\\enron_mail_20150507\\maildir\\lay-k\\sent_items [] 13\n",
      "C:\\Users\\smrut\\midterm\\data\\enron\\enron_mail_20150507\\maildir\\lay-k\\_sent [] 261\n"
     ]
    }
   ],
   "source": [
    "import os\n",
    "import operator\n",
    "import sys\n",
    "from email.parser import Parser\n",
    "import pandas as pd\n",
    "import numpy as np\n",
    "#All the informaiton of Lay-k including number of files present inside each of his email folder is got\n",
    "path= \"C:\\\\Users\\\\smrut\\\\midterm\\\\data\\\\enron\\\\enron_mail_20150507\\\\maildir\\\\lay-k\"\n",
    "\n",
    "for directory, subdirectory, filenames in  os.walk(path):\n",
    "        print(directory, subdirectory, len(filenames))\n"
   ]
  },
  {
   "cell_type": "code",
   "execution_count": 2,
   "metadata": {
    "collapsed": true
   },
   "outputs": [],
   "source": [
    "import glob\n",
    "import os\n",
    "from os.path import basename\n",
    "from email.parser import Parser\n",
    "from collections import Counter\n",
    "\n",
    "#We start with reading each file in the folder\n",
    "files=glob.glob('C:/Users/smrut/midterm/data/enron/enron_mail_20150507/maildir/*') \n",
    "                "
   ]
  },
  {
   "cell_type": "code",
   "execution_count": 4,
   "metadata": {
    "collapsed": false
   },
   "outputs": [
    {
     "data": {
      "text/plain": [
       "[('rosalee.fleming@enron.com', 856),\n",
       " ('brown_mary_jo@lilly.com', 82),\n",
       " ('leonardo.pacheco@enron.com', 78),\n",
       " ('savont@email.msn.com', 66),\n",
       " ('tori.wells@enron.com', 58),\n",
       " ('elizabeth.davis@compaq.com', 50),\n",
       " ('katherine.brown@enron.com', 47),\n",
       " ('no.address@enron.com', 47),\n",
       " ('mrslinda@lplpi.com', 40),\n",
       " ('lizard_ar@yahoo.com', 36),\n",
       " ('karen.denne@enron.com', 35),\n",
       " ('svarga@kudlow.com', 34),\n",
       " ('elizabeth.lay@enron.com', 33),\n",
       " ('jeffrey.garten@yale.edu', 32),\n",
       " ('rob.bradley@enron.com', 32)]"
      ]
     },
     "execution_count": 4,
     "metadata": {},
     "output_type": "execute_result"
    }
   ],
   "source": [
    "#Lay-k's folder is looped in and \n",
    "#his sent files is parsed.\n",
    "#All emails in the sent file is parsed using email parser library.\n",
    "#The number of people from whom CEO has received emails is appended to the dictionary \n",
    "#The most common 15 people from whom the ceo received mail is therefore got.\n",
    "People_From_Whom_CEO_has_rcvdmails=[]\n",
    "for name in files:\n",
    "    CEOsName=basename(name)\n",
    "    list_of_files=glob.glob(name+'/*')\n",
    "    #print(filesCategory)\n",
    "    if CEOsName=='lay-k':\n",
    "        for lay_files in list_of_files:\n",
    "            lay_k_path=glob.glob(lay_files+'/*')\n",
    "            for emailCategory in lay_k_path:\n",
    "                    filesSent=glob.glob(emailCategory)\n",
    "                    for eachEmail in filesSent:\n",
    "                         with open(eachEmail) as data_file:\n",
    "                            string_file=data_file.read()\n",
    "                            email = Parser().parsestr(string_file)\n",
    "                            People_From_Whom_CEO_has_rcvdmails.append(email['From'])\n",
    "                \n",
    "Counter(sorted(People_From_Whom_CEO_has_rcvdmails)).most_common(15)"
   ]
  },
  {
   "cell_type": "code",
   "execution_count": null,
   "metadata": {
    "collapsed": true
   },
   "outputs": [],
   "source": []
  }
 ],
 "metadata": {
  "kernelspec": {
   "display_name": "Python 3",
   "language": "python",
   "name": "python3"
  },
  "language_info": {
   "codemirror_mode": {
    "name": "ipython",
    "version": 3
   },
   "file_extension": ".py",
   "mimetype": "text/x-python",
   "name": "python",
   "nbconvert_exporter": "python",
   "pygments_lexer": "ipython3",
   "version": "3.6.0"
  }
 },
 "nbformat": 4,
 "nbformat_minor": 2
}
