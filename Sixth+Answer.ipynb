{
 "cells": [
  {
   "cell_type": "code",
   "execution_count": 23,
   "metadata": {
    "collapsed": false
   },
   "outputs": [
    {
     "data": {
      "text/plain": [
       "{'Adams': 1835,\n",
       " 'Buchanan': 948,\n",
       " 'Bush': 2198,\n",
       " 'Carter': 529,\n",
       " 'Cleveland': 1496,\n",
       " 'Clinton': 1417,\n",
       " 'Coolidge': 1221,\n",
       " 'Eisenhower': 1521,\n",
       " 'Garfield': 1022,\n",
       " 'Grant': 1042,\n",
       " 'Harding': 1170,\n",
       " 'Harrison': 3251,\n",
       " 'Hayes': 832,\n",
       " 'Hoover': 1087,\n",
       " 'Jackson': 1019,\n",
       " 'Jefferson': 1523,\n",
       " 'Johnson': 571,\n",
       " 'Kennedy': 570,\n",
       " 'Lincoln': 1441,\n",
       " 'Madison': 1079,\n",
       " 'McKinley': 2099,\n",
       " 'Monroe': 2306,\n",
       " 'Nixon': 1288,\n",
       " 'Obama': 938,\n",
       " 'Pierce': 1168,\n",
       " 'Polk': 1333,\n",
       " 'Reagan': 1831,\n",
       " 'Roosevelt': 2690,\n",
       " 'Taft': 1439,\n",
       " 'Taylor': 499,\n",
       " 'Truman': 781,\n",
       " 'VanBuren': 1318,\n",
       " 'Washington': 724,\n",
       " 'Wilson': 1210}"
      ]
     },
     "execution_count": 23,
     "metadata": {},
     "output_type": "execute_result"
    }
   ],
   "source": [
    "import nltk\n",
    "from nltk.corpus import inaugural\n",
    "\n",
    "\n",
    "files=inaugural.fileids()\n",
    "\n",
    "President_Words={}\n",
    "for x in files :\n",
    "        if x[5:-4] in President_Words:\n",
    "         total_words=inaugural.words(x)\n",
    "         unique_words=set(total_words)\n",
    "         unique_word_count=len(unique_words)\n",
    "         President_Words[x[5:-4]]+=unique_word_count\n",
    "        else:\n",
    "            total_words=inaugural.words(x)\n",
    "            unique_words=set(total_words)\n",
    "            unique_word_count=len(unique_words)\n",
    "            President_Words[x[5:-4]]=unique_word_count\n",
    "President_Words\n",
    "            \n"
   ]
  },
  {
   "cell_type": "code",
   "execution_count": null,
   "metadata": {
    "collapsed": true
   },
   "outputs": [],
   "source": []
  },
  {
   "cell_type": "code",
   "execution_count": null,
   "metadata": {
    "collapsed": true
   },
   "outputs": [],
   "source": []
  }
 ],
 "metadata": {
  "kernelspec": {
   "display_name": "Python 3",
   "language": "python",
   "name": "python3"
  },
  "language_info": {
   "codemirror_mode": {
    "name": "ipython",
    "version": 3
   },
   "file_extension": ".py",
   "mimetype": "text/x-python",
   "name": "python",
   "nbconvert_exporter": "python",
   "pygments_lexer": "ipython3",
   "version": "3.6.0"
  }
 },
 "nbformat": 4,
 "nbformat_minor": 2
}
